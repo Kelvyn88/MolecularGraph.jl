{
 "cells": [
  {
   "cell_type": "code",
   "execution_count": 1,
   "metadata": {
    "ExecuteTime": {
     "end_time": "2019-03-04T17:56:44.519000+09:00",
     "start_time": "2019-03-04T08:56:27.952Z"
    }
   },
   "outputs": [
    {
     "name": "stderr",
     "output_type": "stream",
     "text": [
      "┌ Info: Recompiling stale cache file /Users/smatsuoka/.julia/compiled/v1.0/MolecularGraph/6vz1i.ji for MolecularGraph [6c89ec66-9cd8-5372-9f91-fabc50dd27fd]\n",
      "└ @ Base loading.jl:1187\n"
     ]
    },
    {
     "name": "stdout",
     "output_type": "stream",
     "text": [
      "loading: funcgroup.yaml\n",
      "loading: ring.yaml\n",
      "loading: biomolecule.yaml\n"
     ]
    }
   ],
   "source": [
    "import Pkg\n",
    "Pkg.activate(\"..\")\n",
    "\n",
    "using MolecularGraph\n",
    "using MolecularGraph.Geometry"
   ]
  },
  {
   "cell_type": "code",
   "execution_count": 200,
   "metadata": {
    "ExecuteTime": {
     "end_time": "2019-03-04T19:43:49.097000+09:00",
     "start_time": "2019-03-04T10:43:48.956Z"
    }
   },
   "outputs": [
    {
     "data": {
      "text/plain": [
       "MolecularGraph.Geometry.forcedirected"
      ]
     },
     "execution_count": 200,
     "metadata": {},
     "output_type": "execute_result"
    }
   ],
   "source": [
    "using MolecularGraph.Graph\n",
    "using LinearAlgebra\n",
    "\n",
    "mutable struct ForceDirectedState{G<:UDGraph}\n",
    "    graph::G\n",
    "\n",
    "    velo::Matrix{Float64}\n",
    "    force::Matrix{Float64}\n",
    "    maxiter::Int\n",
    "    tick::Float64\n",
    "    stdlength::Float64\n",
    "    stdangle::Float64\n",
    "    repulsion::Float64\n",
    "    spring::Float64\n",
    "    hinge::Float64\n",
    "    decay::Float64\n",
    "\n",
    "    coords::Matrix{Float64}\n",
    "\n",
    "    function ForceDirectedState{G}(graph, init) where {G<:UDGraph}\n",
    "        state = new()\n",
    "        initmat = rawdata(init)\n",
    "        state.coords = deepcopy(initmat)\n",
    "        state.velo = zeros(size(initmat))\n",
    "        state.force = zeros(size(initmat))\n",
    "        state.maxiter = 50\n",
    "        state.tick = 0.01\n",
    "        state.stdlength = 1.0\n",
    "        state.stdangle = -2/3\n",
    "        state.repulsion = 0.01\n",
    "        state.spring = 2.0\n",
    "        state.hinge = 0.002\n",
    "        state.decay = 0.9\n",
    "        return state\n",
    "    end\n",
    "end\n",
    "\n",
    "\n",
    "\n",
    "\"\"\"\n",
    "    forcedirected(graph::UDGraph) -> Cartesian2D\n",
    "\n",
    "Compute 2D embedding based on the graph distance.\n",
    "\"\"\"\n",
    "function Geometry.forcedirected(graph::G, init::Cartesian2D) where {G<:UDGraph}\n",
    "    state = ForceDirectedState{G}(graph, init)\n",
    "    t = state.tick\n",
    "    for i in 1:state.maxiter\n",
    "        energy = 0.0\n",
    "        for n1 in nodekeys(graph)\n",
    "            p1v = state.velo[n1, :] * t\n",
    "            p1a = state.force[n1, :] * (t ^ 2) * 0.5\n",
    "            state.coords[n1, :] +=  p1v + p1a\n",
    "            p1 = state.coords[n1, :]\n",
    "            force = [0.0, 0.0]\n",
    "            # Repulsion constraints\n",
    "            for n2 in nodekeys(graph)\n",
    "                n2 == n1 && continue\n",
    "                p2 = state.coords[n2, :]\n",
    "                factor = min(state.repulsion / norm(p2 - p1) ^ 2, state.repulsion * 100)\n",
    "                force -= factor * normalize(p2 - p1)\n",
    "            end\n",
    "            # Spring constraint\n",
    "            for nbr in neighborkeys(graph, n1)\n",
    "                pnbr = state.coords[nbr, :]\n",
    "                factor = (norm(pnbr - p1) - state.stdlength) * state.spring\n",
    "                force += factor * normalize(pnbr - p1)\n",
    "            end\n",
    "            \"\"\"\n",
    "            # Hinge constraint\n",
    "            for (a, b) in combinations(neighbors(graph, n1))\n",
    "                pa = state.coords[a, :]\n",
    "                pb = state.coords[b, :]\n",
    "                factor = (interiorangle(pa, pb) - state.stdangle) * state.hinge\n",
    "                force += factor * normalize(p2 - p1)\n",
    "            end\n",
    "            \"\"\"\n",
    "            state.velo[n1, :] += (state.force[n1, :] + force) / 2 * t\n",
    "            state.force[n1, :] = force\n",
    "            energy += norm(state.force[n1, :])\n",
    "        end\n",
    "        println(energy)\n",
    "        energy < 0.001 && break\n",
    "    end\n",
    "    return Cartesian2D(state.coords)\n",
    "end\n"
   ]
  },
  {
   "cell_type": "code",
   "execution_count": 205,
   "metadata": {
    "ExecuteTime": {
     "end_time": "2019-03-04T19:44:44.216000+09:00",
     "start_time": "2019-03-04T10:44:44.194Z"
    },
    "scrolled": true
   },
   "outputs": [
    {
     "data": {
      "image/svg+xml": [
       "<svg xmlns=\"http://www.w3.org/2000/svg\"\n",
       " xmlns:xlink=\"http://www.w3.org/1999/xlink\"\n",
       " version=\"1.2\" baseProfile=\"tiny\"\n",
       " text-rendering=\"geometricPrecision\"\n",
       " preserveAspectRatio=\"xMidYMid meet\"\n",
       " font-weight=\"normal\"\n",
       " font-family=\"Helvetica\"\n",
       " width=\"200\" height=\"200\"\n",
       " viewBox=\"0 0 172.35 160.01\">\n",
       "<rect x=\"0\" y=\"0\" width=\"172.35\" height=\"160.01\"\n",
       " fill=\"rgb(255, 255, 255)\" opacity=\"0.0\"/>\n",
       "<line x1=\"68.25\" y1=\"130.01\" x2=\"37.93\" y2=\"117.80\" stroke=\"rgb(0, 0, 0)\" /><line x1=\"37.93\" y1=\"117.80\" x2=\"30.00\" y2=\"82.94\" stroke=\"rgb(0, 0, 0)\" /><line x1=\"30.00\" y1=\"82.94\" x2=\"52.05\" y2=\"66.63\" stroke=\"rgb(0, 0, 0)\" /><line x1=\"52.05\" y1=\"66.63\" x2=\"52.24\" y2=\"38.03\" stroke=\"rgb(0, 0, 0)\" /><line x1=\"52.24\" y1=\"38.03\" x2=\"82.45\" y2=\"30.00\" stroke=\"rgb(0, 0, 0)\" /><line x1=\"82.45\" y1=\"30.00\" x2=\"99.01\" y2=\"51.71\" stroke=\"rgb(0, 0, 0)\" /><line x1=\"99.01\" y1=\"51.71\" x2=\"125.44\" y2=\"49.86\" stroke=\"rgb(0, 0, 0)\" /><line x1=\"125.44\" y1=\"49.86\" x2=\"142.35\" y2=\"76.22\" stroke=\"rgb(0, 0, 0)\" /><line x1=\"142.35\" y1=\"76.22\" x2=\"138.69\" y2=\"110.04\" stroke=\"rgb(0, 0, 0)\" /><line x1=\"138.69\" y1=\"110.04\" x2=\"110.11\" y2=\"121.10\" stroke=\"rgb(0, 0, 0)\" /><line x1=\"110.11\" y1=\"121.10\" x2=\"85.63\" y2=\"105.70\" stroke=\"rgb(0, 0, 0)\" /><line x1=\"85.63\" y1=\"105.70\" x2=\"68.25\" y2=\"130.01\" stroke=\"rgb(0, 0, 0)\" /><line x1=\"85.63\" y1=\"105.70\" x2=\"80.32\" y2=\"76.17\" stroke=\"rgb(0, 0, 0)\" /><line x1=\"80.32\" y1=\"76.17\" x2=\"52.05\" y2=\"66.63\" stroke=\"rgb(0, 0, 0)\" /><line x1=\"80.32\" y1=\"76.17\" x2=\"99.01\" y2=\"51.71\" stroke=\"rgb(0, 0, 0)\" /></svg>\n"
      ]
     },
     "metadata": {},
     "output_type": "display_data"
    },
    {
     "name": "stdout",
     "output_type": "stream",
     "text": [
      "9.648375049739974\n",
      "9.648300223522545\n",
      "9.646890262972473\n",
      "9.644142265679431\n",
      "9.640052766867738\n",
      "9.634617742332447\n",
      "9.627832611434311\n",
      "9.619692240350897\n",
      "9.610190945831274\n",
      "9.599322499747707\n",
      "9.587080134778756\n",
      "9.573456551592736\n",
      "9.558443927928131\n",
      "9.542033929986607\n",
      "9.524217726564073\n",
      "9.504986006344247\n",
      "9.484328998766046\n",
      "9.462236498849622\n",
      "9.438697896323804\n",
      "9.413702209338886\n",
      "9.387238122970404\n",
      "9.35929403262028\n",
      "9.3298580922988\n",
      "9.298918267622312\n",
      "9.266462393185979\n",
      "9.232478233766832\n",
      "9.19695354858085\n",
      "9.15987615756122\n",
      "9.121234008350031\n",
      "9.081015242413363\n",
      "9.039208258419203\n",
      "8.995801770786246\n",
      "8.950784861160345\n",
      "8.904147020558252\n",
      "8.855878180107958\n",
      "8.805968728799712\n",
      "8.754409517546918\n",
      "8.701191850255604\n",
      "8.646307464628883\n",
      "8.589748508182947\n",
      "8.53150751847782\n",
      "8.471577420851842\n",
      "8.409951561879975\n",
      "8.346623802118485\n",
      "8.281588697087848\n",
      "8.21484180039805\n",
      "8.146380126852309\n",
      "8.076202815619327\n",
      "8.004312033404616\n",
      "7.9307141540961235\n"
     ]
    }
   ],
   "source": [
    "mol = smilestomol(\"C1CCC2CCC3CCCCC1C23\")\n",
    "coords = graphdistembedding(mol)\n",
    "opt =  forcedirected(mol, coords)\n",
    "mol.coords[:Cartesian2D] = opt\n",
    "mol_svg = drawsvg!(mol, 200, 200)\n",
    "display(\"image/svg+xml\",  mol_svg)"
   ]
  },
  {
   "cell_type": "code",
   "execution_count": null,
   "metadata": {},
   "outputs": [],
   "source": []
  }
 ],
 "metadata": {
  "kernelspec": {
   "display_name": "Julia 1.0.1",
   "language": "julia",
   "name": "julia-1.0"
  },
  "language_info": {
   "file_extension": ".jl",
   "mimetype": "application/julia",
   "name": "julia",
   "version": "1.0.1"
  }
 },
 "nbformat": 4,
 "nbformat_minor": 2
}
