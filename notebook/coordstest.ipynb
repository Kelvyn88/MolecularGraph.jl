{
 "cells": [
  {
   "cell_type": "code",
   "execution_count": 1,
   "metadata": {
    "ExecuteTime": {
     "end_time": "2019-03-06T18:09:35.083000+09:00",
     "start_time": "2019-03-06T09:09:18.117Z"
    }
   },
   "outputs": [
    {
     "name": "stderr",
     "output_type": "stream",
     "text": [
      "┌ Info: Recompiling stale cache file /Users/smatsuoka/.julia/compiled/v1.0/MolecularGraph/6vz1i.ji for MolecularGraph [6c89ec66-9cd8-5372-9f91-fabc50dd27fd]\n",
      "└ @ Base loading.jl:1187\n"
     ]
    },
    {
     "name": "stdout",
     "output_type": "stream",
     "text": [
      "loading: funcgroup.yaml\n",
      "loading: ring.yaml\n",
      "loading: biomolecule.yaml\n"
     ]
    }
   ],
   "source": [
    "import Pkg\n",
    "Pkg.activate(\"..\")\n",
    "\n",
    "using MolecularGraph\n",
    "using MolecularGraph.Graph\n",
    "using MolecularGraph.Geometry"
   ]
  },
  {
   "cell_type": "code",
   "execution_count": 2,
   "metadata": {
    "ExecuteTime": {
     "end_time": "2019-03-06T18:09:37.772000+09:00",
     "start_time": "2019-03-06T09:09:36.387Z"
    }
   },
   "outputs": [],
   "source": [
    "using LinearAlgebra\n",
    "\n",
    "function Geometry.graphdistembedding(graph::UDGraph; yzfactor=2.0, force3d=false)\n",
    "    n = nodecount(graph)\n",
    "    D = distancematrix(graph)\n",
    "    H = LinearAlgebra.I - fill(1 / n, (n, n))\n",
    "    G = - 0.5 * H * D * H # Gram matrix\n",
    "    F = LinearAlgebra.eigen(G)\n",
    "    display(F)\n",
    "    od = sortperm(real.(F.values), rev=true)\n",
    "    xidx = od[1]\n",
    "    yidx = od[2]\n",
    "    zidx = od[3]\n",
    "    coords = zeros(n, 3)\n",
    "    xv = abs(F.values[xidx])\n",
    "    yv = abs(F.values[yidx])\n",
    "    zv = abs(F.values[zidx])\n",
    "    println([xv, yv, zv])\n",
    "    coords[:, 1] = real.(F.vectors[:, xidx]) * sqrt(xv)\n",
    "    coords[:, 2] = real.(F.vectors[:, yidx]) * sqrt(yv)\n",
    "    coords[:, 3] = real.(F.vectors[:, zidx]) * sqrt(zv)\n",
    "    if !force3d && yv / zv > yzfactor\n",
    "        return Cartesian2D(coords[:, 1:2])\n",
    "    else\n",
    "        return Cartesian3D(coords)\n",
    "    end\n",
    "end"
   ]
  },
  {
   "cell_type": "code",
   "execution_count": 23,
   "metadata": {
    "ExecuteTime": {
     "end_time": "2019-03-06T18:22:48.452000+09:00",
     "start_time": "2019-03-06T09:22:48.446Z"
    },
    "scrolled": true
   },
   "outputs": [
    {
     "data": {
      "text/plain": [
       "Eigen{Complex{Float64},Complex{Float64},Array{Complex{Float64},2},Array{Complex{Float64},1}}\n",
       "eigenvalues:\n",
       "9-element Array{Complex{Float64},1}:\n",
       "     2.8228756555322985 + 0.0im                   \n",
       "     2.6902380714238117 + 0.0im                   \n",
       "     0.4999999999999998 + 0.0im                   \n",
       "   -0.16666666666666607 + 0.0im                   \n",
       "     0.3097619285761917 + 0.0im                   \n",
       "     0.1771243444677048 + 0.0im                   \n",
       "                    2.0 + 0.0im                   \n",
       " 1.0424741958028662e-16 + 1.0382329397893297e-16im\n",
       " 1.0424741958028662e-16 - 1.0382329397893297e-16im\n",
       "eigenvectors:\n",
       "9×9 Array{Complex{Float64},2}:\n",
       "     0.479229+0.0im   0.105283+0.0im  …   0.191356-0.107684im   \n",
       "     0.394346+0.0im  -0.380508+0.0im      0.191356-0.107684im   \n",
       " -2.02616e-15+0.0im  -0.598519+0.0im      0.191356-0.107684im   \n",
       "    -0.394346+0.0im  -0.380508+0.0im      0.191356-0.107684im   \n",
       "    -0.479229+0.0im   0.105283+0.0im      0.191356-0.107684im   \n",
       "    -0.239615+0.0im   0.287242+0.0im  …   0.551807-0.0im        \n",
       "     0.239615+0.0im   0.287242+0.0im     -0.169094-0.215368im   \n",
       "    -0.239615+0.0im   0.287242+0.0im     -0.169094-0.215368im   \n",
       "     0.239615+0.0im   0.287242+0.0im      0.551807+1.94289e-16im"
      ]
     },
     "metadata": {},
     "output_type": "display_data"
    },
    {
     "name": "stdout",
     "output_type": "stream",
     "text": [
      "[2.82288, 2.69024, 2.0]\n"
     ]
    },
    {
     "data": {
      "text/plain": [
       "Cartesian3D([0.805173 0.172685 -5.06259e-17; 0.662557 -0.624107 7.84969e-17; … ; -0.402587 0.471133 0.707107; 0.402587 0.471133 0.707107])"
      ]
     },
     "execution_count": 23,
     "metadata": {},
     "output_type": "execute_result"
    }
   ],
   "source": [
    "# mol = smilestomol(\"C1CCC2CCC3CCCCC1C23\")\n",
    "mol = smilestomol(\"C12CCCC(CC1)CC2\")\n",
    "# mol = smilestomol(\"C12C3C1C23\")\n",
    "coords = graphdistembedding(mol)"
   ]
  },
  {
   "cell_type": "code",
   "execution_count": 32,
   "metadata": {
    "ExecuteTime": {
     "end_time": "2019-03-06T18:24:19.793000+09:00",
     "start_time": "2019-03-06T09:24:19.775Z"
    },
    "scrolled": true
   },
   "outputs": [
    {
     "name": "stdout",
     "output_type": "stream",
     "text": [
      "23.958307976013486\n",
      "23.93972840655466\n",
      "23.90261888338679\n",
      "23.847078279112488\n",
      "23.77325401039009\n",
      "23.681340981117792\n",
      "23.571580196144783\n",
      "23.444257064397743\n",
      "23.299699414241296\n",
      "23.138275247331293\n",
      "22.96039026010727\n",
      "22.76648516436059\n",
      "22.55703283997819\n",
      "22.332535353989897\n",
      "22.093520880445876\n",
      "21.840540555443766\n",
      "21.574165300849693\n",
      "21.294982648963774\n",
      "21.00359359862864\n",
      "20.700609531136465\n",
      "20.386649211828065\n",
      "20.062335900571256\n",
      "19.728294591429428\n",
      "19.385149398857255\n",
      "19.033521104756744\n",
      "18.674024877756327\n",
      "18.30726817319412\n",
      "17.93384881954228\n",
      "17.554353294443832\n",
      "17.169355191178433\n",
      "16.779413874255102\n",
      "16.385073320965443\n",
      "15.98686114413198\n",
      "15.585287789958642\n",
      "15.180845903835456\n",
      "14.774009856164904\n",
      "14.365235419759465\n",
      "13.954959590103\n",
      "13.543600539769637\n",
      "13.1315576985517\n",
      "12.719211951366129\n",
      "12.30692594679945\n",
      "11.895044510236438\n",
      "11.483895156935613\n",
      "11.073788702225709\n",
      "10.665019968291414\n",
      "10.257868589927533\n",
      "9.852599925363485\n",
      "9.449466083078262\n",
      "9.04870708185602\n",
      "8.650552169784605\n",
      "8.255221339385862\n",
      "7.862927091963155\n",
      "7.473876526677492\n",
      "7.088273862149321\n",
      "6.706323545904944\n",
      "6.328234178693169\n",
      "5.95422359206185\n",
      "5.584525596610328\n",
      "5.219399218650731\n",
      "4.859141774607951\n",
      "4.5041081405060455\n",
      "4.154740661723084\n",
      "3.8116189855400413\n",
      "3.475551985702692\n",
      "3.1477746517176386\n",
      "2.8304703588787934\n",
      "2.5285962315997055\n",
      "2.2574287285528105\n",
      "2.0488810297248765\n",
      "1.8965877127270836\n",
      "1.7766885146016143\n",
      "1.684418775001097\n",
      "1.6209597016225668\n",
      "1.5872870336992877\n",
      "1.5826449737095316\n",
      "1.6059055236091249\n",
      "1.6604504793661117\n",
      "1.760352190231929\n",
      "1.9093335187134883\n",
      "2.1329873462041906\n",
      "2.383958543162782\n",
      "2.639061742411231\n",
      "2.895443532664022\n",
      "3.151565450862916\n",
      "3.406487146325005\n",
      "3.6595871706762804\n",
      "3.9104341200071775\n",
      "4.158718758662497\n",
      "4.4042146484829745\n",
      "4.646753667999976\n",
      "4.886209992512305\n",
      "5.122489196948987\n",
      "5.355520614436074\n",
      "5.585251843771657\n",
      "5.811644718973068\n",
      "6.034672298761919\n",
      "6.2543165827255836\n",
      "6.470566754721151\n",
      "6.683417814982775\n"
     ]
    },
    {
     "data": {
      "text/plain": [
       "Cartesian3D([1.49133 0.378918 -1.55314e-16; 1.36124 -1.19919 1.90428e-16; … ; -0.77703 0.887925 1.32631; 0.77703 0.887925 1.32631])"
      ]
     },
     "execution_count": 32,
     "metadata": {},
     "output_type": "execute_result"
    }
   ],
   "source": [
    "constraint = Geometry.ForceConstraints(mol[:RingSize])\n",
    "opt =  forcedirected(mol, coords, constraint)\n",
    "# mol.coords[:Cartesian2D] = opt\n"
   ]
  },
  {
   "cell_type": "code",
   "execution_count": 52,
   "metadata": {
    "ExecuteTime": {
     "end_time": "2019-03-06T18:26:30.361000+09:00",
     "start_time": "2019-03-06T09:26:30.356Z"
    }
   },
   "outputs": [
    {
     "data": {
      "image/svg+xml": [
       "<svg xmlns=\"http://www.w3.org/2000/svg\"\n",
       " xmlns:xlink=\"http://www.w3.org/1999/xlink\"\n",
       " version=\"1.2\" baseProfile=\"tiny\"\n",
       " text-rendering=\"geometricPrecision\"\n",
       " preserveAspectRatio=\"xMidYMid meet\"\n",
       " font-weight=\"normal\"\n",
       " font-family=\"Helvetica\"\n",
       " width=\"200\" height=\"200\"\n",
       " viewBox=\"0 0 153.87 99.33\">\n",
       "<rect x=\"0\" y=\"0\" width=\"153.87\" height=\"99.33\"\n",
       " fill=\"rgb(255, 255, 255)\" opacity=\"0.0\"/>\n",
       "<line x1=\"123.87\" y1=\"50.73\" x2=\"94.35\" y2=\"64.65\" stroke=\"rgb(0, 0, 0)\" /><line x1=\"94.35\" y1=\"64.65\" x2=\"50.25\" y2=\"69.33\" stroke=\"rgb(0, 0, 0)\" /><line x1=\"50.25\" y1=\"69.33\" x2=\"30.00\" y2=\"61.29\" stroke=\"rgb(0, 0, 0)\" /><line x1=\"30.00\" y1=\"61.29\" x2=\"53.36\" y2=\"47.04\" stroke=\"rgb(0, 0, 0)\" /><line x1=\"53.36\" y1=\"47.04\" x2=\"86.36\" y2=\"30.00\" stroke=\"rgb(0, 0, 0)\" /><line x1=\"86.36\" y1=\"30.00\" x2=\"123.10\" y2=\"31.92\" stroke=\"rgb(0, 0, 0)\" /><line x1=\"123.10\" y1=\"31.92\" x2=\"123.87\" y2=\"50.73\" stroke=\"rgb(0, 0, 0)\" /><line x1=\"53.36\" y1=\"47.04\" x2=\"71.19\" y2=\"56.76\" stroke=\"rgb(0, 0, 0)\" /><line x1=\"71.19\" y1=\"56.76\" x2=\"107.92\" y2=\"58.68\" stroke=\"rgb(0, 0, 0)\" /><line x1=\"107.92\" y1=\"58.68\" x2=\"123.87\" y2=\"50.73\" stroke=\"rgb(0, 0, 0)\" /></svg>\n"
      ]
     },
     "metadata": {},
     "output_type": "display_data"
    }
   ],
   "source": [
    "rot = Geometry.rotation(point(0.0, 0.0, 1.0), pi / 4)\n",
    "opt = cartesian3d(rawdata(opt) * rot)\n",
    "mol.coords[:Cartesian2D] = cartesian2d(opt)\n",
    "\n",
    "# mol.coords[:Cartesian2D] = coords\n",
    "mol_svg = drawsvg!(mol, 200, 200)\n",
    "display(\"image/svg+xml\",  mol_svg)"
   ]
  },
  {
   "cell_type": "code",
   "execution_count": null,
   "metadata": {},
   "outputs": [],
   "source": []
  }
 ],
 "metadata": {
  "kernelspec": {
   "display_name": "Julia 1.0.1",
   "language": "julia",
   "name": "julia-1.0"
  },
  "language_info": {
   "file_extension": ".jl",
   "mimetype": "application/julia",
   "name": "julia",
   "version": "1.0.1"
  }
 },
 "nbformat": 4,
 "nbformat_minor": 2
}
