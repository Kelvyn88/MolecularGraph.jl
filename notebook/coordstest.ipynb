{
 "cells": [
  {
   "cell_type": "code",
   "execution_count": 7,
   "metadata": {
    "ExecuteTime": {
     "end_time": "2019-03-05T11:28:11.678000+09:00",
     "start_time": "2019-03-05T02:28:09.467Z"
    }
   },
   "outputs": [],
   "source": [
    "import Pkg\n",
    "Pkg.activate(\"..\")\n",
    "\n",
    "using MolecularGraph\n",
    "using MolecularGraph.Geometry"
   ]
  },
  {
   "cell_type": "code",
   "execution_count": 70,
   "metadata": {
    "ExecuteTime": {
     "end_time": "2019-03-05T11:55:53.101000+09:00",
     "start_time": "2019-03-05T02:55:52.878Z"
    }
   },
   "outputs": [
    {
     "data": {
      "text/plain": [
       "MolecularGraph.Geometry.forcedirected"
      ]
     },
     "execution_count": 70,
     "metadata": {},
     "output_type": "execute_result"
    }
   ],
   "source": [
    "using MolecularGraph.Graph\n",
    "using LinearAlgebra\n",
    "\n",
    "mutable struct ForceConstraints\n",
    "    mincycle::Dict{Int,Int} # node, minimum cycle size\n",
    "\n",
    "    function ForceConstraints(cyclesize::Vector{Set{Int}})\n",
    "        mincyc = Dict(i => maximum(c) for (i, c) in enumerate(cyclesize))\n",
    "        new(mincyc)\n",
    "    end\n",
    "end\n",
    "\n",
    "\n",
    "mutable struct ForceDirectedState{G<:UDGraph}\n",
    "    graph::G\n",
    "    constraints::ForceConstraints\n",
    "\n",
    "    velo::Matrix{Float64}\n",
    "    force::Matrix{Float64}\n",
    "    maxiter::Int\n",
    "    tick::Float64\n",
    "    stdlength::Float64\n",
    "    repulsion::Float64\n",
    "    spring::Float64\n",
    "    hinge::Float64\n",
    "    decay::Float64\n",
    "\n",
    "    coords::Matrix{Float64}\n",
    "\n",
    "    function ForceDirectedState{G}(graph, init, constraints) where {G<:UDGraph}\n",
    "        state = new()\n",
    "        initmat = rawdata(init)\n",
    "        state.coords = deepcopy(initmat)\n",
    "        state.constraints = constraints\n",
    "        state.velo = zeros(size(initmat))\n",
    "        state.force = zeros(size(initmat))\n",
    "        state.maxiter = 50\n",
    "        state.tick = 0.01\n",
    "        state.stdlength = 1.0\n",
    "        state.repulsion = 0.00001\n",
    "        state.spring = 2.0\n",
    "        state.hinge = 1.0\n",
    "        state.decay = 0.9\n",
    "        return state\n",
    "    end\n",
    "end\n",
    "\n",
    "\n",
    "\"\"\"\n",
    "    forcedirected(graph::UDGraph) -> Cartesian2D\n",
    "\n",
    "Compute 2D embedding based on the graph distance.\n",
    "\"\"\"\n",
    "function Geometry.forcedirected(\n",
    "        graph::G, init::Cartesian2D, constraints::ForceConstraints) where {G<:UDGraph}\n",
    "    state = ForceDirectedState{G}(graph, init, constraints)\n",
    "    t = state.tick\n",
    "    for i in 1:state.maxiter\n",
    "        # Calculate forces\n",
    "        f = zeros(size(state.coords))\n",
    "        for n1 in nodekeys(graph)\n",
    "            p1 = state.coords[n1, :]\n",
    "            # Repulsion constraints\n",
    "            for n2 in nodekeys(graph)\n",
    "                n2 == n1 && continue\n",
    "                p2 = state.coords[n2, :]\n",
    "                factor = min(state.repulsion / norm(p2 - p1) ^ 2, state.repulsion * 100)\n",
    "                f[n1, :] -= factor * normalize(p2 - p1)\n",
    "            end\n",
    "            # Spring constraint\n",
    "            for nbr in neighborkeys(graph, n1)\n",
    "                pnbr = state.coords[nbr, :]\n",
    "                factor = (norm(pnbr - p1) - state.stdlength) * state.spring\n",
    "                f[n1, :] += factor * normalize(pnbr - p1)\n",
    "            end\n",
    "            # Hinge constraint\n",
    "            if degree(graph, n1) == 2\n",
    "                (a, b) = neighborkeys(graph, n1)\n",
    "                p1a = state.coords[a, :] - p1\n",
    "                p1b = state.coords[b, :] - p1\n",
    "                minc = state.constraints.mincycle[n1]\n",
    "                ang = cos(pi - 2pi / minc)\n",
    "                cross = p1a[1] * p1b[2] - p1b[1] * p1a[2]\n",
    "                direction = cross >= 0 ? 1 : -1\n",
    "                factor = (dot(p1a, p1b) / (norm(p1a) * norm(p1b)) - ang) * state.hinge\n",
    "                rotation = r -> [cos(r) -sin(r); sin(r) cos(r)]\n",
    "                normveca = rotation(pi / 2 * direction) * normalize(p1a - p1)\n",
    "                f[a, :] += factor * normveca\n",
    "                normvecb = rotation(pi / 2 * direction) * normalize(p1b - p1)\n",
    "                f[b, :] += factor * normvecb\n",
    "            end\n",
    "        end\n",
    "        # Apply forces\n",
    "        energy = 0.0\n",
    "        for n1 in nodekeys(graph)\n",
    "            state.velo[n1, :] += (state.force[n1, :] + f[n1, :]) / 2 * t\n",
    "            state.force[n1, :] = f[n1, :]\n",
    "            state.coords[n1, :] += state.velo[n1, :] * t + state.force[n1, :] * (t ^ 2) * 0.5\n",
    "            energy += norm(state.force[n1, :])\n",
    "        end\n",
    "        println(energy)\n",
    "        energy < 0.001 && break\n",
    "    end\n",
    "    return Cartesian2D(state.coords)\n",
    "end"
   ]
  },
  {
   "cell_type": "code",
   "execution_count": 71,
   "metadata": {
    "ExecuteTime": {
     "end_time": "2019-03-05T11:55:56.007000+09:00",
     "start_time": "2019-03-05T02:55:55.601Z"
    },
    "scrolled": true
   },
   "outputs": [
    {
     "data": {
      "image/svg+xml": [
       "<svg xmlns=\"http://www.w3.org/2000/svg\"\n",
       " xmlns:xlink=\"http://www.w3.org/1999/xlink\"\n",
       " version=\"1.2\" baseProfile=\"tiny\"\n",
       " text-rendering=\"geometricPrecision\"\n",
       " preserveAspectRatio=\"xMidYMid meet\"\n",
       " font-weight=\"normal\"\n",
       " font-family=\"Helvetica\"\n",
       " width=\"200\" height=\"200\"\n",
       " viewBox=\"0 0 171.38 159.35\">\n",
       "<rect x=\"0\" y=\"0\" width=\"171.38\" height=\"159.35\"\n",
       " fill=\"rgb(255, 255, 255)\" opacity=\"0.0\"/>\n",
       "<line x1=\"68.30\" y1=\"129.35\" x2=\"38.15\" y2=\"117.24\" stroke=\"rgb(0, 0, 0)\" /><line x1=\"38.15\" y1=\"117.24\" x2=\"30.00\" y2=\"82.35\" stroke=\"rgb(0, 0, 0)\" /><line x1=\"30.00\" y1=\"82.35\" x2=\"51.73\" y2=\"66.37\" stroke=\"rgb(0, 0, 0)\" /><line x1=\"51.73\" y1=\"66.37\" x2=\"53.34\" y2=\"38.08\" stroke=\"rgb(0, 0, 0)\" /><line x1=\"53.34\" y1=\"38.08\" x2=\"82.23\" y2=\"30.00\" stroke=\"rgb(0, 0, 0)\" /><line x1=\"82.23\" y1=\"30.00\" x2=\"99.96\" y2=\"50.76\" stroke=\"rgb(0, 0, 0)\" /><line x1=\"99.96\" y1=\"50.76\" x2=\"125.19\" y2=\"50.00\" stroke=\"rgb(0, 0, 0)\" /><line x1=\"125.19\" y1=\"50.00\" x2=\"141.38\" y2=\"76.25\" stroke=\"rgb(0, 0, 0)\" /><line x1=\"141.38\" y1=\"76.25\" x2=\"139.62\" y2=\"110.10\" stroke=\"rgb(0, 0, 0)\" /><line x1=\"139.62\" y1=\"110.10\" x2=\"109.82\" y2=\"121.45\" stroke=\"rgb(0, 0, 0)\" /><line x1=\"109.82\" y1=\"121.45\" x2=\"86.21\" y2=\"104.70\" stroke=\"rgb(0, 0, 0)\" /><line x1=\"86.21\" y1=\"104.70\" x2=\"68.30\" y2=\"129.35\" stroke=\"rgb(0, 0, 0)\" /><line x1=\"86.21\" y1=\"104.70\" x2=\"80.26\" y2=\"75.51\" stroke=\"rgb(0, 0, 0)\" /><line x1=\"80.26\" y1=\"75.51\" x2=\"51.73\" y2=\"66.37\" stroke=\"rgb(0, 0, 0)\" /><line x1=\"80.26\" y1=\"75.51\" x2=\"99.96\" y2=\"50.76\" stroke=\"rgb(0, 0, 0)\" /></svg>\n"
      ]
     },
     "metadata": {},
     "output_type": "display_data"
    },
    {
     "name": "stdout",
     "output_type": "stream",
     "text": [
      "9.131439002980619\n",
      "9.129853166420096\n",
      "9.126681692558481\n",
      "9.12192498685669\n",
      "9.115583674928978\n",
      "9.107658623640768\n",
      "9.098150969556904\n",
      "9.087062155014124\n",
      "9.074393972161731\n",
      "9.060148615385668\n",
      "9.044328742603923\n",
      "9.026937545995247\n",
      "9.007978832799235\n",
      "8.98745711690309\n",
      "8.965377722009528\n",
      "8.941746897260108\n",
      "8.916571946268347\n",
      "8.889861370595582\n",
      "8.861625028777464\n",
      "8.831874312076389\n",
      "8.80062233819085\n",
      "8.767884164188295\n",
      "8.733677019935362\n",
      "8.698020563263903\n",
      "8.660937158016925\n",
      "8.62245217594231\n",
      "8.582594323117041\n",
      "8.541395991155776\n",
      "8.498893632845915\n",
      "8.455128161012105\n",
      "8.410145368302114\n",
      "8.36399636416479\n",
      "8.316738023540841\n",
      "8.268433439728614\n",
      "8.219152371611024\n",
      "8.168971673140184\n",
      "8.117975691049104\n",
      "8.066256615812415\n",
      "8.013914771843513\n",
      "7.9610588371040025\n",
      "7.907805991413456\n",
      "7.854282008799155\n",
      "7.800621334324168\n",
      "7.746967221766467\n",
      "7.693472056150961\n",
      "7.6402980436289765\n",
      "7.587618517175777\n",
      "7.535620173025635\n",
      "7.484506606904589\n",
      "7.434503536661699\n"
     ]
    }
   ],
   "source": [
    "mol = smilestomol(\"C1CCC2CCC3CCCCC1C23\")\n",
    "coords = graphdistembedding(mol)\n",
    "constraint = ForceConstraints(mol[:RingSize])\n",
    "opt =  forcedirected(mol, coords, constraint)\n",
    "mol.coords[:Cartesian2D] = opt\n",
    "mol_svg = drawsvg!(mol, 200, 200)\n",
    "display(\"image/svg+xml\",  mol_svg)"
   ]
  }
 ],
 "metadata": {
  "kernelspec": {
   "display_name": "Julia 1.0.1",
   "language": "julia",
   "name": "julia-1.0"
  },
  "language_info": {
   "file_extension": ".jl",
   "mimetype": "application/julia",
   "name": "julia",
   "version": "1.0.1"
  }
 },
 "nbformat": 4,
 "nbformat_minor": 2
}
